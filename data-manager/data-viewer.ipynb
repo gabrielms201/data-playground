{
 "cells": [
  {
   "cell_type": "markdown",
   "source": [
    "# Data Collector"
   ],
   "metadata": {}
  },
  {
   "cell_type": "code",
   "execution_count": 4,
   "source": [
    "import datetime as dt\r\n",
    "import numpy as np\r\n",
    "import matplotlib.dates as md\r\n",
    "import matplotlib.pyplot as plt\r\n",
    "\r\n",
    "class Metric():\r\n",
    "    def __init__(self, type, column):\r\n",
    "        self.type = type.upper()\r\n",
    "        self.column = column\r\n",
    "        self.__content = []\r\n",
    "    # Content getter && setter\r\n",
    "    def setContent(self, data, line):\r\n",
    "        if self.type == \"NUMERIC\":\r\n",
    "            return self.__content.append( float (data[line][self.column].replace(\",\", \".\").replace(\" \", \"0\")) )\r\n",
    "        elif self.type == \"DATE\":\r\n",
    "            time = data[line][self.column]\r\n",
    "            return self.__content.append(dt.datetime.strptime(time, \"%d/%m/%Y %H:%M\"))\r\n",
    "    def getContent(self):\r\n",
    "        return self.__content\r\n",
    "class DataBase():\r\n",
    "    def __init__(self, metrics):\r\n",
    "        self.__metrics = metrics\r\n",
    "    # Data getter && setter\r\n",
    "    def setData(self, filename):\r\n",
    "        file = open(filename, \"r\", encoding=\"UTF-8\")\r\n",
    "        data = [line.rstrip(\"\\n\") for line in file]\r\n",
    "        data = [words.split(\"\\t\") for words in data]\r\n",
    "        file.close()\r\n",
    "        self.__data = data\r\n",
    "    def getData(self):\r\n",
    "        return self.__data\r\n",
    "    # Metrics getter\r\n",
    "    def getMetrics(self, metrics):\r\n",
    "        return self.__metrics\r\n",
    "    # Custom methods\r\n",
    "    def fillMetrics(self):\r\n",
    "        for metric in self.__metrics:\r\n",
    "            for line in range(1, len(self.__data)):\r\n",
    "                metric.setContent(self.__data, line)\r\n",
    "\r\n"
   ],
   "outputs": [],
   "metadata": {}
  },
  {
   "cell_type": "markdown",
   "source": [
    "# Data Viewer"
   ],
   "metadata": {}
  },
  {
   "cell_type": "code",
   "execution_count": 5,
   "source": [
    "def mbViewer():\r\n",
    "    # Metrics\r\n",
    "    time = Metric(\"Date\", 0)\r\n",
    "    free = Metric(\"Numeric\", 1)\r\n",
    "    cpu = Metric(\"Numeric\", -2)\r\n",
    "    commited = Metric(\"Numeric\", -1)\r\n",
    "    # Db\r\n",
    "    dataBaseMetrics = [time, free, cpu, commited]\r\n",
    "    dataBase = DataBase(dataBaseMetrics)\r\n",
    "    dataBase.setData(\"collector-input/Data.tsv\")\r\n",
    "    dataBase.fillMetrics()\r\n",
    "\r\n",
    "    # Mb Graphic\r\n",
    "    time = time.getContent()\r\n",
    "    freeMb = free.getContent()\r\n",
    "    del freeMb[89:] ; del time[89:]\r\n",
    "\r\n",
    "    ax=plt.gca()\r\n",
    "    ax.set_xticks(time)\r\n",
    "    ax.xaxis.set_major_formatter(md.DateFormatter(\"%H:%M\"))\r\n",
    "    plt.xticks(rotation=90)\r\n",
    "\r\n",
    "    plt.scatter(time,freeMb)\r\n",
    "    plt.show()\r\n",
    "mbViewer()"
   ],
   "outputs": [
    {
     "output_type": "display_data",
     "data": {
      "image/png": "[encoded data removed]",
      "text/plain": [
       "<Figure size 432x288 with 1 Axes>"
      ]
     },
     "metadata": {
      "needs_background": "light"
     }
    }
   ],
   "metadata": {}
  }
 ],
 "metadata": {
  "orig_nbformat": 4,
  "language_info": {
   "name": "python",
   "version": "3.9.5",
   "mimetype": "text/x-python",
   "codemirror_mode": {
    "name": "ipython",
    "version": 3
   },
   "pygments_lexer": "ipython3",
   "nbconvert_exporter": "python",
   "file_extension": ".py"
  },
  "kernelspec": {
   "name": "python3",
   "display_name": "Python 3.9.5 64-bit"
  },
  "interpreter": {
   "hash": "0a6923e2de5b2441536a7ca1042e6fb41cfaf2181ca5203439234d38c6d8d988"
  }
 },
 "nbformat": 4,
 "nbformat_minor": 2
}